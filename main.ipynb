{
 "cells": [
  {
   "cell_type": "markdown",
   "metadata": {},
   "source": [
    "# The Top 1000 Wealthiest People in the World and the Industries they work in!\n",
    "\n",
    "## Intro\n",
    "\n",
    "The purpose of this project is to create a Juypter Notebook that utilizes Pandas to generate descriptive statistics. It establishes an environment on codespaces and uses Github Actions to run a Makefile for : make install, make test, make format, and make lint. It loads the Top Wealthiest data set from Kaggler and utiize a library to run functions that will generate a pie chart as well as some summary statistics about the data."
   ]
  },
  {
   "cell_type": "code",
   "execution_count": 1,
   "metadata": {},
   "outputs": [],
   "source": [
    "from mylib.lib import (\n",
    "    load_data,\n",
    "    plot_pie_chart,\n",
    "    summary_stats,\n",
    "    grab_mean,\n",
    "    grab_min,\n",
    "    grab_std,\n",
    "    grab_max,\n",
    ")\n",
    "\n",
    "example_csv = \"Top_1000_wealthiest_people.csv\""
   ]
  },
  {
   "cell_type": "code",
   "execution_count": 2,
   "metadata": {},
   "outputs": [],
   "source": [
    "general_df = load_data(example_csv)\n",
    "general_df.head()\n",
    "assert general_df is not None\n",
    "assert general_df.shape == (1000, 5)"
   ]
  },
  {
   "cell_type": "code",
   "execution_count": 7,
   "metadata": {},
   "outputs": [],
   "source": [
    "test_mean = grab_mean(general_df, \"Net Worth (in billions)\")\n",
    "test_min = grab_min(general_df, \"Net Worth (in billions)\")\n",
    "test_max = grab_max(general_df, \"Net Worth (in billions)\")\n",
    "test_std = grab_std(general_df, \"Net Worth (in billions)\")\n",
    "test_describe = general_df.describe()\n",
    "assert test_describe.loc[\"mean\", \"Net Worth (in billions)\"] == test_mean\n",
    "assert test_describe.loc[\"std\", \"Net Worth (in billions)\"] == test_std\n",
    "assert test_describe.loc[\"max\", \"Net Worth (in billions)\"] == test_max\n",
    "assert test_describe.loc[\"min\", \"Net Worth (in billions)\"] == test_min"
   ]
  },
  {
   "cell_type": "markdown",
   "metadata": {},
   "source": [
    "## Data Visualization\n",
    "\n",
    "We will now create a pie chart of the percentage of wealth for these 1000 billionaires by industry. "
   ]
  },
  {
   "cell_type": "code",
   "execution_count": 9,
   "metadata": {},
   "outputs": [
    {
     "ename": "AttributeError",
     "evalue": "'str' object has no attribute 'groupby'",
     "output_type": "error",
     "traceback": [
      "\u001b[1;31m---------------------------------------------------------------------------\u001b[0m",
      "\u001b[1;31mAttributeError\u001b[0m                            Traceback (most recent call last)",
      "Cell \u001b[1;32mIn[9], line 1\u001b[0m\n\u001b[1;32m----> 1\u001b[0m plot_pie_chart(example_csv)\n",
      "File \u001b[1;32mc:\\Users\\uzoma\\IndividualProject1_Uzo\\mylib\\lib.py:15\u001b[0m, in \u001b[0;36mplot_pie_chart\u001b[1;34m(data_frame)\u001b[0m\n\u001b[0;32m     13\u001b[0m \u001b[38;5;28;01mdef\u001b[39;00m \u001b[38;5;21mplot_pie_chart\u001b[39m(data_frame):\n\u001b[0;32m     14\u001b[0m \u001b[38;5;250m    \u001b[39m\u001b[38;5;124;03m\"\"\"This function plots the pie chart.\"\"\"\u001b[39;00m\n\u001b[1;32m---> 15\u001b[0m     industry_net_worth \u001b[38;5;241m=\u001b[39m data_frame\u001b[38;5;241m.\u001b[39mgroupby(\u001b[38;5;124m\"\u001b[39m\u001b[38;5;124mIndustry\u001b[39m\u001b[38;5;124m\"\u001b[39m)[\u001b[38;5;124m\"\u001b[39m\u001b[38;5;124mNet Worth (in billions)\u001b[39m\u001b[38;5;124m\"\u001b[39m]\u001b[38;5;241m.\u001b[39msum()\n\u001b[0;32m     16\u001b[0m     industry_net_worth\u001b[38;5;241m.\u001b[39mplot(kind\u001b[38;5;241m=\u001b[39m\u001b[38;5;124m\"\u001b[39m\u001b[38;5;124mpie\u001b[39m\u001b[38;5;124m\"\u001b[39m, autopct\u001b[38;5;241m=\u001b[39m\u001b[38;5;124m\"\u001b[39m\u001b[38;5;132;01m%1.1f\u001b[39;00m\u001b[38;5;132;01m%%\u001b[39;00m\u001b[38;5;124m\"\u001b[39m)\n\u001b[0;32m     17\u001b[0m     plt\u001b[38;5;241m.\u001b[39mtitle(\u001b[38;5;124m\"\u001b[39m\u001b[38;5;124mNet Worth Distribution by Industry\u001b[39m\u001b[38;5;124m\"\u001b[39m)\n",
      "\u001b[1;31mAttributeError\u001b[0m: 'str' object has no attribute 'groupby'"
     ]
    }
   ],
   "source": [
    "plot_pie_chart(example_csv)"
   ]
  },
  {
   "cell_type": "markdown",
   "metadata": {},
   "source": [
    "# Conclusion\n",
    "\n",
    "This dataset is dated to 2023. As we can clearly see, Retail and Technology are the two giants of this dataset accounting for over half of the wealth in these categories. No wonder billionaires like Elon Musk, Jeff Bezos, Mark Zuckerberg and so on are so well known. It's important to note that this number is always on a moving scale and there is also a significant amount of 'crossover' between indsutries indicating that it's hard to paint a perfect picture with this simple dataset alone... "
   ]
  }
 ],
 "metadata": {
  "kernelspec": {
   "display_name": "base",
   "language": "python",
   "name": "python3"
  },
  "language_info": {
   "codemirror_mode": {
    "name": "ipython",
    "version": 3
   },
   "file_extension": ".py",
   "mimetype": "text/x-python",
   "name": "python",
   "nbconvert_exporter": "python",
   "pygments_lexer": "ipython3",
   "version": "3.12.3"
  }
 },
 "nbformat": 4,
 "nbformat_minor": 2
}
