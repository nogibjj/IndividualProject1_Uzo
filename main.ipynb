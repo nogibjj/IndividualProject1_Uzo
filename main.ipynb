{
 "cells": [
  {
   "cell_type": "code",
   "execution_count": 1,
   "metadata": {},
   "outputs": [],
   "source": [
    "from mylib.lib import (\n",
    "    load_data,\n",
    "    plot_pie_chart,\n",
    "    summary_stats,\n",
    "    grab_mean,\n",
    "    grab_min,\n",
    "    grab_std,\n",
    "    grab_max,\n",
    ")\n",
    "\n",
    "example_csv = \"https://www.kaggle.com/datasets/muhammadehsan02/top-1000-wealthiest-people-in-the-world/data.csv\""
   ]
  },
  {
   "cell_type": "code",
   "execution_count": 4,
   "metadata": {},
   "outputs": [
    {
     "ename": "TypeError",
     "evalue": "load_data() takes 0 positional arguments but 1 was given",
     "output_type": "error",
     "traceback": [
      "\u001b[1;31m---------------------------------------------------------------------------\u001b[0m",
      "\u001b[1;31mTypeError\u001b[0m                                 Traceback (most recent call last)",
      "Cell \u001b[1;32mIn[4], line 1\u001b[0m\n\u001b[1;32m----> 1\u001b[0m general_df \u001b[38;5;241m=\u001b[39m load_data(example_csv)\n\u001b[0;32m      2\u001b[0m \u001b[38;5;28;01massert\u001b[39;00m general_df \u001b[38;5;129;01mis\u001b[39;00m \u001b[38;5;129;01mnot\u001b[39;00m \u001b[38;5;28;01mNone\u001b[39;00m\n\u001b[0;32m      3\u001b[0m \u001b[38;5;28;01massert\u001b[39;00m general_df\u001b[38;5;241m.\u001b[39mshape \u001b[38;5;241m==\u001b[39m (\u001b[38;5;241m1000\u001b[39m, \u001b[38;5;241m5\u001b[39m)\n",
      "\u001b[1;31mTypeError\u001b[0m: load_data() takes 0 positional arguments but 1 was given"
     ]
    }
   ],
   "source": [
    "general_df = load_data(example_csv)\n",
    "assert general_df is not None\n",
    "assert general_df.shape == (1000, 5)\n",
    "general_df.head()"
   ]
  },
  {
   "cell_type": "code",
   "execution_count": null,
   "metadata": {},
   "outputs": [],
   "source": []
  }
 ],
 "metadata": {
  "kernelspec": {
   "display_name": "base",
   "language": "python",
   "name": "python3"
  },
  "language_info": {
   "codemirror_mode": {
    "name": "ipython",
    "version": 3
   },
   "file_extension": ".py",
   "mimetype": "text/x-python",
   "name": "python",
   "nbconvert_exporter": "python",
   "pygments_lexer": "ipython3",
   "version": "3.12.3"
  }
 },
 "nbformat": 4,
 "nbformat_minor": 2
}
